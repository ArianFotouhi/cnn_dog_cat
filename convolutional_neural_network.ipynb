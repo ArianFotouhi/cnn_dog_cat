{
 "cells": [
  {
   "cell_type": "markdown",
   "metadata": {
    "colab_type": "text",
    "id": "3DR-eO17geWu"
   },
   "source": [
    "# Convolutional Neural Network"
   ]
  },
  {
   "cell_type": "markdown",
   "metadata": {
    "colab_type": "text",
    "id": "EMefrVPCg-60"
   },
   "source": [
    "### Importing the libraries"
   ]
  },
  {
   "cell_type": "code",
   "execution_count": 1,
   "metadata": {
    "colab": {},
    "colab_type": "code",
    "id": "sCV30xyVhFbE"
   },
   "outputs": [],
   "source": [
    "import tensorflow as tf\n",
    "from keras.preprocessing.image import ImageDataGenerator"
   ]
  },
  {
   "cell_type": "code",
   "execution_count": 2,
   "metadata": {
    "colab": {},
    "colab_type": "code",
    "id": "FIleuCAjoFD8"
   },
   "outputs": [
    {
     "data": {
      "text/plain": [
       "'2.10.0'"
      ]
     },
     "execution_count": 2,
     "metadata": {},
     "output_type": "execute_result"
    }
   ],
   "source": [
    "tf.__version__"
   ]
  },
  {
   "cell_type": "markdown",
   "metadata": {
    "colab_type": "text",
    "id": "oxQxCBWyoGPE"
   },
   "source": [
    "## Part 1 - Data Preprocessing"
   ]
  },
  {
   "cell_type": "markdown",
   "metadata": {
    "colab_type": "text",
    "id": "MvE-heJNo3GG"
   },
   "source": [
    "### Preprocessing the Training set"
   ]
  },
  {
   "cell_type": "code",
   "execution_count": 3,
   "metadata": {
    "colab": {},
    "colab_type": "code",
    "id": "0koUcJMJpEBD"
   },
   "outputs": [
    {
     "name": "stdout",
     "output_type": "stream",
     "text": [
      "Found 8000 images belonging to 2 classes.\n"
     ]
    }
   ],
   "source": [
    "train_datagen = ImageDataGenerator(rescale = 1./255,\n",
    "                                   shear_range = 0.2,\n",
    "                                   zoom_range = 0.2,\n",
    "                                   horizontal_flip = True)\n",
    "training_set = train_datagen.flow_from_directory('dataset/training_set',\n",
    "                                                 target_size = (64, 64),\n",
    "                                                 batch_size = 32,\n",
    "                                                 class_mode = 'binary')"
   ]
  },
  {
   "cell_type": "markdown",
   "metadata": {
    "colab_type": "text",
    "id": "mrCMmGw9pHys"
   },
   "source": [
    "### Preprocessing the Test set"
   ]
  },
  {
   "cell_type": "code",
   "execution_count": 4,
   "metadata": {
    "colab": {},
    "colab_type": "code",
    "id": "SH4WzfOhpKc3"
   },
   "outputs": [
    {
     "name": "stdout",
     "output_type": "stream",
     "text": [
      "Found 2000 images belonging to 2 classes.\n"
     ]
    }
   ],
   "source": [
    "test_datagen = ImageDataGenerator(rescale = 1./255)\n",
    "test_set = test_datagen.flow_from_directory('dataset/test_set',\n",
    "                                            target_size = (64, 64),\n",
    "                                            batch_size = 32,\n",
    "                                            class_mode = 'binary')"
   ]
  },
  {
   "cell_type": "markdown",
   "metadata": {
    "colab_type": "text",
    "id": "af8O4l90gk7B"
   },
   "source": [
    "## Part 2 - Building the CNN"
   ]
  },
  {
   "cell_type": "markdown",
   "metadata": {
    "colab_type": "text",
    "id": "ces1gXY2lmoX"
   },
   "source": [
    "### Initialising the CNN"
   ]
  },
  {
   "cell_type": "code",
   "execution_count": 5,
   "metadata": {
    "colab": {},
    "colab_type": "code",
    "id": "SAUt4UMPlhLS"
   },
   "outputs": [],
   "source": [
    "cnn = tf.keras.models.Sequential()"
   ]
  },
  {
   "cell_type": "markdown",
   "metadata": {
    "colab_type": "text",
    "id": "u5YJj_XMl5LF"
   },
   "source": [
    "### Step 1 - Convolution"
   ]
  },
  {
   "cell_type": "code",
   "execution_count": 6,
   "metadata": {
    "colab": {},
    "colab_type": "code",
    "id": "XPzPrMckl-hV"
   },
   "outputs": [],
   "source": [
    "cnn.add(tf.keras.layers.Conv2D(filters=32, kernel_size=3, activation='relu', input_shape=[64, 64, 3]))"
   ]
  },
  {
   "cell_type": "markdown",
   "metadata": {
    "colab_type": "text",
    "id": "tf87FpvxmNOJ"
   },
   "source": [
    "### Step 2 - Pooling"
   ]
  },
  {
   "cell_type": "code",
   "execution_count": 7,
   "metadata": {
    "colab": {},
    "colab_type": "code",
    "id": "ncpqPl69mOac"
   },
   "outputs": [],
   "source": [
    "cnn.add(tf.keras.layers.MaxPool2D(pool_size=2, strides=2))"
   ]
  },
  {
   "cell_type": "markdown",
   "metadata": {
    "colab_type": "text",
    "id": "xaTOgD8rm4mU"
   },
   "source": [
    "### Adding a second convolutional layer"
   ]
  },
  {
   "cell_type": "code",
   "execution_count": 8,
   "metadata": {
    "colab": {},
    "colab_type": "code",
    "id": "i_-FZjn_m8gk"
   },
   "outputs": [],
   "source": [
    "cnn.add(tf.keras.layers.Conv2D(filters=32, kernel_size=3, activation='relu'))\n",
    "cnn.add(tf.keras.layers.MaxPool2D(pool_size=2, strides=2))"
   ]
  },
  {
   "cell_type": "markdown",
   "metadata": {
    "colab_type": "text",
    "id": "tmiEuvTunKfk"
   },
   "source": [
    "### Step 3 - Flattening"
   ]
  },
  {
   "cell_type": "code",
   "execution_count": 9,
   "metadata": {
    "colab": {},
    "colab_type": "code",
    "id": "6AZeOGCvnNZn"
   },
   "outputs": [],
   "source": [
    "cnn.add(tf.keras.layers.Flatten())"
   ]
  },
  {
   "cell_type": "markdown",
   "metadata": {
    "colab_type": "text",
    "id": "dAoSECOm203v"
   },
   "source": [
    "### Step 4 - Full Connection"
   ]
  },
  {
   "cell_type": "code",
   "execution_count": 10,
   "metadata": {
    "colab": {},
    "colab_type": "code",
    "id": "8GtmUlLd26Nq"
   },
   "outputs": [],
   "source": [
    "cnn.add(tf.keras.layers.Dense(units=128, activation='relu'))"
   ]
  },
  {
   "cell_type": "markdown",
   "metadata": {
    "colab_type": "text",
    "id": "yTldFvbX28Na"
   },
   "source": [
    "### Step 5 - Output Layer"
   ]
  },
  {
   "cell_type": "code",
   "execution_count": 11,
   "metadata": {
    "colab": {},
    "colab_type": "code",
    "id": "1p_Zj1Mc3Ko_"
   },
   "outputs": [],
   "source": [
    "cnn.add(tf.keras.layers.Dense(units=1, activation='sigmoid'))"
   ]
  },
  {
   "cell_type": "markdown",
   "metadata": {
    "colab_type": "text",
    "id": "D6XkI90snSDl"
   },
   "source": [
    "## Part 3 - Training the CNN"
   ]
  },
  {
   "cell_type": "markdown",
   "metadata": {
    "colab_type": "text",
    "id": "vfrFQACEnc6i"
   },
   "source": [
    "### Compiling the CNN"
   ]
  },
  {
   "cell_type": "code",
   "execution_count": 12,
   "metadata": {
    "colab": {},
    "colab_type": "code",
    "id": "NALksrNQpUlJ"
   },
   "outputs": [],
   "source": [
    "cnn.compile(optimizer = 'adam', loss = 'binary_crossentropy', metrics = ['accuracy'])"
   ]
  },
  {
   "cell_type": "markdown",
   "metadata": {
    "colab_type": "text",
    "id": "ehS-v3MIpX2h"
   },
   "source": [
    "### Training the CNN on the Training set and evaluating it on the Test set"
   ]
  },
  {
   "cell_type": "code",
   "execution_count": 13,
   "metadata": {
    "colab": {},
    "colab_type": "code",
    "id": "XUj1W4PJptta"
   },
   "outputs": [
    {
     "name": "stdout",
     "output_type": "stream",
     "text": [
      "Epoch 1/50\n",
      "250/250 [==============================] - 66s 260ms/step - loss: 0.6566 - accuracy: 0.6071 - val_loss: 0.6087 - val_accuracy: 0.6725\n",
      "Epoch 2/50\n",
      "250/250 [==============================] - 37s 149ms/step - loss: 0.5991 - accuracy: 0.6704 - val_loss: 0.5748 - val_accuracy: 0.7130\n",
      "Epoch 3/50\n",
      "250/250 [==============================] - 41s 163ms/step - loss: 0.5533 - accuracy: 0.7197 - val_loss: 0.5163 - val_accuracy: 0.7580\n",
      "Epoch 4/50\n",
      "250/250 [==============================] - 40s 159ms/step - loss: 0.5155 - accuracy: 0.7405 - val_loss: 0.5118 - val_accuracy: 0.7580\n",
      "Epoch 5/50\n",
      "250/250 [==============================] - 38s 153ms/step - loss: 0.4930 - accuracy: 0.7601 - val_loss: 0.4980 - val_accuracy: 0.7680\n",
      "Epoch 6/50\n",
      "250/250 [==============================] - 37s 150ms/step - loss: 0.4736 - accuracy: 0.7735 - val_loss: 0.5422 - val_accuracy: 0.7370\n",
      "Epoch 7/50\n",
      "250/250 [==============================] - 40s 160ms/step - loss: 0.4558 - accuracy: 0.7809 - val_loss: 0.4669 - val_accuracy: 0.7835\n",
      "Epoch 8/50\n",
      "250/250 [==============================] - 38s 150ms/step - loss: 0.4332 - accuracy: 0.7955 - val_loss: 0.5340 - val_accuracy: 0.7600\n",
      "Epoch 9/50\n",
      "250/250 [==============================] - 38s 151ms/step - loss: 0.4196 - accuracy: 0.8033 - val_loss: 0.4667 - val_accuracy: 0.7825\n",
      "Epoch 10/50\n",
      "250/250 [==============================] - 38s 151ms/step - loss: 0.4034 - accuracy: 0.8188 - val_loss: 0.4940 - val_accuracy: 0.7770\n",
      "Epoch 11/50\n",
      "250/250 [==============================] - 38s 151ms/step - loss: 0.3985 - accuracy: 0.8142 - val_loss: 0.4775 - val_accuracy: 0.7860\n",
      "Epoch 12/50\n",
      "250/250 [==============================] - 38s 152ms/step - loss: 0.3919 - accuracy: 0.8160 - val_loss: 0.4697 - val_accuracy: 0.7925\n",
      "Epoch 13/50\n",
      "250/250 [==============================] - 38s 151ms/step - loss: 0.3738 - accuracy: 0.8349 - val_loss: 0.4539 - val_accuracy: 0.7990\n",
      "Epoch 14/50\n",
      "250/250 [==============================] - 38s 151ms/step - loss: 0.3505 - accuracy: 0.8464 - val_loss: 0.4661 - val_accuracy: 0.7915\n",
      "Epoch 15/50\n",
      "250/250 [==============================] - 38s 151ms/step - loss: 0.3377 - accuracy: 0.8509 - val_loss: 0.4764 - val_accuracy: 0.8020\n",
      "Epoch 16/50\n",
      "250/250 [==============================] - 37s 147ms/step - loss: 0.3293 - accuracy: 0.8559 - val_loss: 0.4634 - val_accuracy: 0.7970\n",
      "Epoch 17/50\n",
      "250/250 [==============================] - 37s 146ms/step - loss: 0.3198 - accuracy: 0.8612 - val_loss: 0.4656 - val_accuracy: 0.8120\n",
      "Epoch 18/50\n",
      "250/250 [==============================] - 38s 151ms/step - loss: 0.3040 - accuracy: 0.8681 - val_loss: 0.4983 - val_accuracy: 0.7960\n",
      "Epoch 19/50\n",
      "250/250 [==============================] - 38s 151ms/step - loss: 0.2800 - accuracy: 0.8830 - val_loss: 0.5437 - val_accuracy: 0.7815\n",
      "Epoch 20/50\n",
      "250/250 [==============================] - 38s 151ms/step - loss: 0.2774 - accuracy: 0.8784 - val_loss: 0.5381 - val_accuracy: 0.7965\n",
      "Epoch 21/50\n",
      "250/250 [==============================] - 38s 150ms/step - loss: 0.2676 - accuracy: 0.8863 - val_loss: 0.5270 - val_accuracy: 0.8055\n",
      "Epoch 22/50\n",
      "250/250 [==============================] - 38s 151ms/step - loss: 0.2525 - accuracy: 0.8923 - val_loss: 0.5182 - val_accuracy: 0.8010\n",
      "Epoch 23/50\n",
      "250/250 [==============================] - 38s 151ms/step - loss: 0.2400 - accuracy: 0.8974 - val_loss: 0.5506 - val_accuracy: 0.8010\n",
      "Epoch 24/50\n",
      "250/250 [==============================] - 38s 151ms/step - loss: 0.2290 - accuracy: 0.9060 - val_loss: 0.5948 - val_accuracy: 0.7905\n",
      "Epoch 25/50\n",
      "250/250 [==============================] - 38s 150ms/step - loss: 0.2222 - accuracy: 0.9074 - val_loss: 0.5562 - val_accuracy: 0.8060\n",
      "Epoch 26/50\n",
      "250/250 [==============================] - 38s 151ms/step - loss: 0.1954 - accuracy: 0.9215 - val_loss: 0.6726 - val_accuracy: 0.7780\n",
      "Epoch 27/50\n",
      "250/250 [==============================] - 37s 149ms/step - loss: 0.1948 - accuracy: 0.9214 - val_loss: 0.5500 - val_accuracy: 0.7915\n",
      "Epoch 28/50\n",
      "250/250 [==============================] - 48s 190ms/step - loss: 0.1782 - accuracy: 0.9252 - val_loss: 0.6471 - val_accuracy: 0.7945\n",
      "Epoch 29/50\n",
      "250/250 [==============================] - 43s 170ms/step - loss: 0.1823 - accuracy: 0.9262 - val_loss: 0.5857 - val_accuracy: 0.8000\n",
      "Epoch 30/50\n",
      "250/250 [==============================] - 42s 166ms/step - loss: 0.1673 - accuracy: 0.9349 - val_loss: 0.6225 - val_accuracy: 0.8050\n",
      "Epoch 31/50\n",
      "250/250 [==============================] - 42s 167ms/step - loss: 0.1576 - accuracy: 0.9408 - val_loss: 0.7377 - val_accuracy: 0.7820\n",
      "Epoch 32/50\n",
      "250/250 [==============================] - 42s 167ms/step - loss: 0.1620 - accuracy: 0.9389 - val_loss: 0.6329 - val_accuracy: 0.7980\n",
      "Epoch 33/50\n",
      "250/250 [==============================] - 42s 166ms/step - loss: 0.1493 - accuracy: 0.9426 - val_loss: 0.6554 - val_accuracy: 0.7955\n",
      "Epoch 34/50\n",
      "250/250 [==============================] - 42s 169ms/step - loss: 0.1391 - accuracy: 0.9477 - val_loss: 0.6460 - val_accuracy: 0.8085\n",
      "Epoch 35/50\n",
      "250/250 [==============================] - 42s 167ms/step - loss: 0.1348 - accuracy: 0.9494 - val_loss: 0.6570 - val_accuracy: 0.8010\n",
      "Epoch 36/50\n",
      "250/250 [==============================] - 42s 170ms/step - loss: 0.1322 - accuracy: 0.9517 - val_loss: 0.6728 - val_accuracy: 0.7950\n",
      "Epoch 37/50\n",
      "250/250 [==============================] - 42s 169ms/step - loss: 0.1227 - accuracy: 0.9535 - val_loss: 0.6887 - val_accuracy: 0.8060\n",
      "Epoch 38/50\n",
      "250/250 [==============================] - 40s 160ms/step - loss: 0.1221 - accuracy: 0.9540 - val_loss: 0.7284 - val_accuracy: 0.7835\n",
      "Epoch 39/50\n",
      "250/250 [==============================] - 38s 153ms/step - loss: 0.1016 - accuracy: 0.9619 - val_loss: 0.8035 - val_accuracy: 0.7855\n",
      "Epoch 40/50\n",
      "250/250 [==============================] - 73s 292ms/step - loss: 0.1068 - accuracy: 0.9582 - val_loss: 0.7742 - val_accuracy: 0.7980\n",
      "Epoch 41/50\n",
      "250/250 [==============================] - 73s 291ms/step - loss: 0.1072 - accuracy: 0.9595 - val_loss: 0.7329 - val_accuracy: 0.8035\n",
      "Epoch 42/50\n",
      "250/250 [==============================] - 69s 275ms/step - loss: 0.1013 - accuracy: 0.9626 - val_loss: 0.6917 - val_accuracy: 0.8050\n",
      "Epoch 43/50\n",
      "250/250 [==============================] - 72s 287ms/step - loss: 0.1064 - accuracy: 0.9592 - val_loss: 0.7820 - val_accuracy: 0.8045\n",
      "Epoch 44/50\n",
      "250/250 [==============================] - 73s 293ms/step - loss: 0.0862 - accuracy: 0.9685 - val_loss: 0.9742 - val_accuracy: 0.7805\n",
      "Epoch 45/50\n",
      "250/250 [==============================] - 73s 292ms/step - loss: 0.0895 - accuracy: 0.9685 - val_loss: 0.8813 - val_accuracy: 0.7975\n",
      "Epoch 46/50\n",
      "250/250 [==============================] - 73s 294ms/step - loss: 0.0792 - accuracy: 0.9709 - val_loss: 0.9257 - val_accuracy: 0.7865\n",
      "Epoch 47/50\n",
      "250/250 [==============================] - 73s 291ms/step - loss: 0.0759 - accuracy: 0.9728 - val_loss: 0.8560 - val_accuracy: 0.8065\n",
      "Epoch 48/50\n",
      "250/250 [==============================] - 72s 287ms/step - loss: 0.0928 - accuracy: 0.9681 - val_loss: 0.8396 - val_accuracy: 0.8040\n",
      "Epoch 49/50\n",
      "250/250 [==============================] - 75s 300ms/step - loss: 0.0804 - accuracy: 0.9690 - val_loss: 0.8976 - val_accuracy: 0.8030\n",
      "Epoch 50/50\n",
      "250/250 [==============================] - 74s 294ms/step - loss: 0.0783 - accuracy: 0.9707 - val_loss: 0.8561 - val_accuracy: 0.7975\n"
     ]
    }
   ],
   "source": [
    "cnn.fit(x = training_set, validation_data = test_set, epochs = 50)\n",
    "cnn.save('cnn_model.h5')"
   ]
  },
  {
   "cell_type": "markdown",
   "metadata": {},
   "source": [
    "## Part 4 - Making a single prediction"
   ]
  },
  {
   "cell_type": "code",
   "execution_count": 14,
   "metadata": {},
   "outputs": [],
   "source": [
    "# cnn_model = tf.keras.models.load_model('cnn_model.h5')"
   ]
  },
  {
   "cell_type": "markdown",
   "metadata": {
    "colab_type": "text",
    "id": "U3PZasO0006Z"
   },
   "source": [
    "## Load the trained model "
   ]
  },
  {
   "cell_type": "code",
   "execution_count": 23,
   "metadata": {
    "colab": {},
    "colab_type": "code",
    "id": "gsSiWEJY1BPB"
   },
   "outputs": [
    {
     "name": "stdout",
     "output_type": "stream",
     "text": [
      "1/1 [==============================] - 0s 38ms/step\n",
      "cat\n"
     ]
    }
   ],
   "source": [
    "import numpy as np\n",
    "from keras.preprocessing import image\n",
    "import keras\n",
    "\n",
    "test_image = keras.utils.load_img('dataset/single_prediction/cat_or_dog_5.jpg', target_size = (64, 64))\n",
    "# test_image = image.load_img('dataset/single_prediction/cat_or_dog_1.jpg', target_size = (64, 64))\n",
    "# test_image = image.img_to_array(test_image)\n",
    "test_image = keras.utils.img_to_array(test_image)\n",
    "test_image = np.expand_dims(test_image, axis = 0)\n",
    "result = cnn.predict(test_image)\n",
    "training_set.class_indices\n",
    "if result[0][0] == 1:\n",
    "  prediction = 'dog'\n",
    "else:\n",
    "  prediction = 'cat'\n",
    "\n",
    "print(prediction)"
   ]
  },
  {
   "cell_type": "code",
   "execution_count": 16,
   "metadata": {
    "colab": {},
    "colab_type": "code",
    "id": "ED9KB3I54c1i"
   },
   "outputs": [
    {
     "name": "stdout",
     "output_type": "stream",
     "text": [
      "dog\n"
     ]
    }
   ],
   "source": [
    "print(prediction)"
   ]
  }
 ],
 "metadata": {
  "colab": {
   "collapsed_sections": [],
   "name": "convolutional_neural_network.ipynb",
   "provenance": [],
   "toc_visible": true
  },
  "kernelspec": {
   "display_name": "Python 3 (ipykernel)",
   "language": "python",
   "name": "python3"
  },
  "language_info": {
   "codemirror_mode": {
    "name": "ipython",
    "version": 3
   },
   "file_extension": ".py",
   "mimetype": "text/x-python",
   "name": "python",
   "nbconvert_exporter": "python",
   "pygments_lexer": "ipython3",
   "version": "3.9.6"
  }
 },
 "nbformat": 4,
 "nbformat_minor": 1
}
